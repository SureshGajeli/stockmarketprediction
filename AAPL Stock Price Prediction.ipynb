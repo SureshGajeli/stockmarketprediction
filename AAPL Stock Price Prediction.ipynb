{
 "cells": [
  {
   "cell_type": "markdown",
   "metadata": {},
   "source": [
    "# Stock Market Prediction & Forecasting using Stacked LSTM"
   ]
  },
  {
   "cell_type": "code",
   "execution_count": 1,
   "metadata": {},
   "outputs": [
    {
     "name": "stdout",
     "output_type": "stream",
     "text": [
      "Requirement already satisfied: pandas_datareader in c:\\users\\shree\\anaconda3\\lib\\site-packages (0.10.0)\n",
      "Requirement already satisfied: pandas>=0.23 in c:\\users\\shree\\anaconda3\\lib\\site-packages (from pandas_datareader) (1.0.5)\n",
      "Requirement already satisfied: lxml in c:\\users\\shree\\anaconda3\\lib\\site-packages (from pandas_datareader) (4.6.3)\n",
      "Requirement already satisfied: requests>=2.19.0 in c:\\users\\shree\\anaconda3\\lib\\site-packages (from pandas_datareader) (2.24.0)\n",
      "Requirement already satisfied: numpy>=1.13.3 in c:\\users\\shree\\anaconda3\\lib\\site-packages (from pandas>=0.23->pandas_datareader) (1.19.5)\n",
      "Requirement already satisfied: pytz>=2017.2 in c:\\users\\shree\\anaconda3\\lib\\site-packages (from pandas>=0.23->pandas_datareader) (2020.1)\n",
      "Requirement already satisfied: python-dateutil>=2.6.1 in c:\\users\\shree\\anaconda3\\lib\\site-packages (from pandas>=0.23->pandas_datareader) (2.8.1)\n",
      "Requirement already satisfied: certifi>=2017.4.17 in c:\\users\\shree\\anaconda3\\lib\\site-packages (from requests>=2.19.0->pandas_datareader) (2020.6.20)\n",
      "Requirement already satisfied: idna<3,>=2.5 in c:\\users\\shree\\anaconda3\\lib\\site-packages (from requests>=2.19.0->pandas_datareader) (2.10)\n",
      "Requirement already satisfied: urllib3!=1.25.0,!=1.25.1,<1.26,>=1.21.1 in c:\\users\\shree\\anaconda3\\lib\\site-packages (from requests>=2.19.0->pandas_datareader) (1.25.9)\n",
      "Requirement already satisfied: chardet<4,>=3.0.2 in c:\\users\\shree\\anaconda3\\lib\\site-packages (from requests>=2.19.0->pandas_datareader) (3.0.4)\n",
      "Requirement already satisfied: six>=1.5 in c:\\users\\shree\\anaconda3\\lib\\site-packages (from python-dateutil>=2.6.1->pandas>=0.23->pandas_datareader) (1.15.0)\n"
     ]
    }
   ],
   "source": [
    "!pip install pandas_datareader"
   ]
  },
  {
   "cell_type": "markdown",
   "metadata": {},
   "source": [
    "# Collect the Stock Data"
   ]
  },
  {
   "cell_type": "code",
   "execution_count": 2,
   "metadata": {},
   "outputs": [],
   "source": [
    "import pandas_datareader as pdr"
   ]
  },
  {
   "cell_type": "code",
   "execution_count": 3,
   "metadata": {},
   "outputs": [],
   "source": [
    "df = pdr.get_data_tiingo('AAPL', api_key='61cedd4e38b02d75595100201e40b28e119818e0')"
   ]
  },
  {
   "cell_type": "code",
   "execution_count": 4,
   "metadata": {},
   "outputs": [],
   "source": [
    "df.to_csv('AAPL.csv')"
   ]
  },
  {
   "cell_type": "code",
   "execution_count": 5,
   "metadata": {},
   "outputs": [],
   "source": [
    "import pandas as pd"
   ]
  },
  {
   "cell_type": "code",
   "execution_count": 6,
   "metadata": {},
   "outputs": [],
   "source": [
    "df = pd.read_csv('AAPL.csv')"
   ]
  },
  {
   "cell_type": "code",
   "execution_count": 7,
   "metadata": {},
   "outputs": [
    {
     "data": {
      "text/html": [
       "<div>\n",
       "<style scoped>\n",
       "    .dataframe tbody tr th:only-of-type {\n",
       "        vertical-align: middle;\n",
       "    }\n",
       "\n",
       "    .dataframe tbody tr th {\n",
       "        vertical-align: top;\n",
       "    }\n",
       "\n",
       "    .dataframe thead th {\n",
       "        text-align: right;\n",
       "    }\n",
       "</style>\n",
       "<table border=\"1\" class=\"dataframe\">\n",
       "  <thead>\n",
       "    <tr style=\"text-align: right;\">\n",
       "      <th></th>\n",
       "      <th>symbol</th>\n",
       "      <th>date</th>\n",
       "      <th>close</th>\n",
       "      <th>high</th>\n",
       "      <th>low</th>\n",
       "      <th>open</th>\n",
       "      <th>volume</th>\n",
       "      <th>adjClose</th>\n",
       "      <th>adjHigh</th>\n",
       "      <th>adjLow</th>\n",
       "      <th>adjOpen</th>\n",
       "      <th>adjVolume</th>\n",
       "      <th>divCash</th>\n",
       "      <th>splitFactor</th>\n",
       "    </tr>\n",
       "  </thead>\n",
       "  <tbody>\n",
       "    <tr>\n",
       "      <th>0</th>\n",
       "      <td>AAPL</td>\n",
       "      <td>2016-09-19 00:00:00+00:00</td>\n",
       "      <td>113.58</td>\n",
       "      <td>116.180</td>\n",
       "      <td>113.250</td>\n",
       "      <td>115.19</td>\n",
       "      <td>47023046</td>\n",
       "      <td>26.625172</td>\n",
       "      <td>27.234658</td>\n",
       "      <td>26.547814</td>\n",
       "      <td>27.002584</td>\n",
       "      <td>188092184</td>\n",
       "      <td>0.0</td>\n",
       "      <td>1.0</td>\n",
       "    </tr>\n",
       "    <tr>\n",
       "      <th>1</th>\n",
       "      <td>AAPL</td>\n",
       "      <td>2016-09-20 00:00:00+00:00</td>\n",
       "      <td>113.57</td>\n",
       "      <td>114.120</td>\n",
       "      <td>112.510</td>\n",
       "      <td>113.05</td>\n",
       "      <td>34514269</td>\n",
       "      <td>26.622827</td>\n",
       "      <td>26.751757</td>\n",
       "      <td>26.374345</td>\n",
       "      <td>26.500930</td>\n",
       "      <td>138057076</td>\n",
       "      <td>0.0</td>\n",
       "      <td>1.0</td>\n",
       "    </tr>\n",
       "    <tr>\n",
       "      <th>2</th>\n",
       "      <td>AAPL</td>\n",
       "      <td>2016-09-21 00:00:00+00:00</td>\n",
       "      <td>113.55</td>\n",
       "      <td>113.989</td>\n",
       "      <td>112.441</td>\n",
       "      <td>113.85</td>\n",
       "      <td>36003185</td>\n",
       "      <td>26.618139</td>\n",
       "      <td>26.721048</td>\n",
       "      <td>26.358170</td>\n",
       "      <td>26.688464</td>\n",
       "      <td>144012740</td>\n",
       "      <td>0.0</td>\n",
       "      <td>1.0</td>\n",
       "    </tr>\n",
       "    <tr>\n",
       "      <th>3</th>\n",
       "      <td>AAPL</td>\n",
       "      <td>2016-09-22 00:00:00+00:00</td>\n",
       "      <td>114.62</td>\n",
       "      <td>114.940</td>\n",
       "      <td>114.000</td>\n",
       "      <td>114.35</td>\n",
       "      <td>31073984</td>\n",
       "      <td>26.868966</td>\n",
       "      <td>26.943980</td>\n",
       "      <td>26.723627</td>\n",
       "      <td>26.805673</td>\n",
       "      <td>124295936</td>\n",
       "      <td>0.0</td>\n",
       "      <td>1.0</td>\n",
       "    </tr>\n",
       "    <tr>\n",
       "      <th>4</th>\n",
       "      <td>AAPL</td>\n",
       "      <td>2016-09-23 00:00:00+00:00</td>\n",
       "      <td>112.71</td>\n",
       "      <td>114.790</td>\n",
       "      <td>111.550</td>\n",
       "      <td>114.42</td>\n",
       "      <td>52481151</td>\n",
       "      <td>26.421228</td>\n",
       "      <td>26.908817</td>\n",
       "      <td>26.149304</td>\n",
       "      <td>26.822083</td>\n",
       "      <td>209924604</td>\n",
       "      <td>0.0</td>\n",
       "      <td>1.0</td>\n",
       "    </tr>\n",
       "  </tbody>\n",
       "</table>\n",
       "</div>"
      ],
      "text/plain": [
       "  symbol                       date   close     high      low    open  \\\n",
       "0   AAPL  2016-09-19 00:00:00+00:00  113.58  116.180  113.250  115.19   \n",
       "1   AAPL  2016-09-20 00:00:00+00:00  113.57  114.120  112.510  113.05   \n",
       "2   AAPL  2016-09-21 00:00:00+00:00  113.55  113.989  112.441  113.85   \n",
       "3   AAPL  2016-09-22 00:00:00+00:00  114.62  114.940  114.000  114.35   \n",
       "4   AAPL  2016-09-23 00:00:00+00:00  112.71  114.790  111.550  114.42   \n",
       "\n",
       "     volume   adjClose    adjHigh     adjLow    adjOpen  adjVolume  divCash  \\\n",
       "0  47023046  26.625172  27.234658  26.547814  27.002584  188092184      0.0   \n",
       "1  34514269  26.622827  26.751757  26.374345  26.500930  138057076      0.0   \n",
       "2  36003185  26.618139  26.721048  26.358170  26.688464  144012740      0.0   \n",
       "3  31073984  26.868966  26.943980  26.723627  26.805673  124295936      0.0   \n",
       "4  52481151  26.421228  26.908817  26.149304  26.822083  209924604      0.0   \n",
       "\n",
       "   splitFactor  \n",
       "0          1.0  \n",
       "1          1.0  \n",
       "2          1.0  \n",
       "3          1.0  \n",
       "4          1.0  "
      ]
     },
     "execution_count": 7,
     "metadata": {},
     "output_type": "execute_result"
    }
   ],
   "source": [
    "df.head()"
   ]
  },
  {
   "cell_type": "code",
   "execution_count": 8,
   "metadata": {},
   "outputs": [
    {
     "data": {
      "text/html": [
       "<div>\n",
       "<style scoped>\n",
       "    .dataframe tbody tr th:only-of-type {\n",
       "        vertical-align: middle;\n",
       "    }\n",
       "\n",
       "    .dataframe tbody tr th {\n",
       "        vertical-align: top;\n",
       "    }\n",
       "\n",
       "    .dataframe thead th {\n",
       "        text-align: right;\n",
       "    }\n",
       "</style>\n",
       "<table border=\"1\" class=\"dataframe\">\n",
       "  <thead>\n",
       "    <tr style=\"text-align: right;\">\n",
       "      <th></th>\n",
       "      <th>symbol</th>\n",
       "      <th>date</th>\n",
       "      <th>close</th>\n",
       "      <th>high</th>\n",
       "      <th>low</th>\n",
       "      <th>open</th>\n",
       "      <th>volume</th>\n",
       "      <th>adjClose</th>\n",
       "      <th>adjHigh</th>\n",
       "      <th>adjLow</th>\n",
       "      <th>adjOpen</th>\n",
       "      <th>adjVolume</th>\n",
       "      <th>divCash</th>\n",
       "      <th>splitFactor</th>\n",
       "    </tr>\n",
       "  </thead>\n",
       "  <tbody>\n",
       "    <tr>\n",
       "      <th>1252</th>\n",
       "      <td>AAPL</td>\n",
       "      <td>2021-09-09 00:00:00+00:00</td>\n",
       "      <td>154.07</td>\n",
       "      <td>156.11</td>\n",
       "      <td>153.95</td>\n",
       "      <td>155.49</td>\n",
       "      <td>57305730</td>\n",
       "      <td>154.07</td>\n",
       "      <td>156.11</td>\n",
       "      <td>153.95</td>\n",
       "      <td>155.49</td>\n",
       "      <td>57305730</td>\n",
       "      <td>0.0</td>\n",
       "      <td>1.0</td>\n",
       "    </tr>\n",
       "    <tr>\n",
       "      <th>1253</th>\n",
       "      <td>AAPL</td>\n",
       "      <td>2021-09-10 00:00:00+00:00</td>\n",
       "      <td>148.97</td>\n",
       "      <td>155.48</td>\n",
       "      <td>148.70</td>\n",
       "      <td>155.00</td>\n",
       "      <td>140893235</td>\n",
       "      <td>148.97</td>\n",
       "      <td>155.48</td>\n",
       "      <td>148.70</td>\n",
       "      <td>155.00</td>\n",
       "      <td>140893235</td>\n",
       "      <td>0.0</td>\n",
       "      <td>1.0</td>\n",
       "    </tr>\n",
       "    <tr>\n",
       "      <th>1254</th>\n",
       "      <td>AAPL</td>\n",
       "      <td>2021-09-13 00:00:00+00:00</td>\n",
       "      <td>149.55</td>\n",
       "      <td>151.42</td>\n",
       "      <td>148.75</td>\n",
       "      <td>150.63</td>\n",
       "      <td>102404329</td>\n",
       "      <td>149.55</td>\n",
       "      <td>151.42</td>\n",
       "      <td>148.75</td>\n",
       "      <td>150.63</td>\n",
       "      <td>102404329</td>\n",
       "      <td>0.0</td>\n",
       "      <td>1.0</td>\n",
       "    </tr>\n",
       "    <tr>\n",
       "      <th>1255</th>\n",
       "      <td>AAPL</td>\n",
       "      <td>2021-09-14 00:00:00+00:00</td>\n",
       "      <td>148.12</td>\n",
       "      <td>151.07</td>\n",
       "      <td>146.91</td>\n",
       "      <td>150.35</td>\n",
       "      <td>109296295</td>\n",
       "      <td>148.12</td>\n",
       "      <td>151.07</td>\n",
       "      <td>146.91</td>\n",
       "      <td>150.35</td>\n",
       "      <td>109296295</td>\n",
       "      <td>0.0</td>\n",
       "      <td>1.0</td>\n",
       "    </tr>\n",
       "    <tr>\n",
       "      <th>1256</th>\n",
       "      <td>AAPL</td>\n",
       "      <td>2021-09-15 00:00:00+00:00</td>\n",
       "      <td>149.03</td>\n",
       "      <td>149.44</td>\n",
       "      <td>146.37</td>\n",
       "      <td>148.56</td>\n",
       "      <td>83281315</td>\n",
       "      <td>149.03</td>\n",
       "      <td>149.44</td>\n",
       "      <td>146.37</td>\n",
       "      <td>148.56</td>\n",
       "      <td>83281315</td>\n",
       "      <td>0.0</td>\n",
       "      <td>1.0</td>\n",
       "    </tr>\n",
       "  </tbody>\n",
       "</table>\n",
       "</div>"
      ],
      "text/plain": [
       "     symbol                       date   close    high     low    open  \\\n",
       "1252   AAPL  2021-09-09 00:00:00+00:00  154.07  156.11  153.95  155.49   \n",
       "1253   AAPL  2021-09-10 00:00:00+00:00  148.97  155.48  148.70  155.00   \n",
       "1254   AAPL  2021-09-13 00:00:00+00:00  149.55  151.42  148.75  150.63   \n",
       "1255   AAPL  2021-09-14 00:00:00+00:00  148.12  151.07  146.91  150.35   \n",
       "1256   AAPL  2021-09-15 00:00:00+00:00  149.03  149.44  146.37  148.56   \n",
       "\n",
       "         volume  adjClose  adjHigh  adjLow  adjOpen  adjVolume  divCash  \\\n",
       "1252   57305730    154.07   156.11  153.95   155.49   57305730      0.0   \n",
       "1253  140893235    148.97   155.48  148.70   155.00  140893235      0.0   \n",
       "1254  102404329    149.55   151.42  148.75   150.63  102404329      0.0   \n",
       "1255  109296295    148.12   151.07  146.91   150.35  109296295      0.0   \n",
       "1256   83281315    149.03   149.44  146.37   148.56   83281315      0.0   \n",
       "\n",
       "      splitFactor  \n",
       "1252          1.0  \n",
       "1253          1.0  \n",
       "1254          1.0  \n",
       "1255          1.0  \n",
       "1256          1.0  "
      ]
     },
     "execution_count": 8,
     "metadata": {},
     "output_type": "execute_result"
    }
   ],
   "source": [
    "df.tail()"
   ]
  },
  {
   "cell_type": "code",
   "execution_count": 9,
   "metadata": {},
   "outputs": [],
   "source": [
    "df1 = df.reset_index()['close']"
   ]
  },
  {
   "cell_type": "code",
   "execution_count": 10,
   "metadata": {},
   "outputs": [
    {
     "data": {
      "text/plain": [
       "(1257,)"
      ]
     },
     "execution_count": 10,
     "metadata": {},
     "output_type": "execute_result"
    }
   ],
   "source": [
    "df1.shape"
   ]
  },
  {
   "cell_type": "code",
   "execution_count": 11,
   "metadata": {},
   "outputs": [
    {
     "data": {
      "text/plain": [
       "[<matplotlib.lines.Line2D at 0x29ce2280>]"
      ]
     },
     "execution_count": 11,
     "metadata": {},
     "output_type": "execute_result"
    },
    {
     "data": {
      "image/png": "[encoded data removed]",
      "text/plain": [
       "<Figure size 432x288 with 1 Axes>"
      ]
     },
     "metadata": {
      "needs_background": "light"
     },
     "output_type": "display_data"
    }
   ],
   "source": [
    "import matplotlib.pyplot as plt\n",
    "plt.plot(df1)"
   ]
  },
  {
   "cell_type": "code",
   "execution_count": 12,
   "metadata": {},
   "outputs": [],
   "source": [
    "# LSTM are very sensetive to the scale of the data, so we use MinMax scaler."
   ]
  },
  {
   "cell_type": "markdown",
   "metadata": {},
   "source": [
    "# Data Preprocessing"
   ]
  },
  {
   "cell_type": "code",
   "execution_count": 13,
   "metadata": {},
   "outputs": [],
   "source": [
    "import numpy as np"
   ]
  },
  {
   "cell_type": "code",
   "execution_count": 14,
   "metadata": {},
   "outputs": [],
   "source": [
    "from sklearn.preprocessing import MinMaxScaler"
   ]
  },
  {
   "cell_type": "code",
   "execution_count": 15,
   "metadata": {},
   "outputs": [],
   "source": [
    "scaler = MinMaxScaler(feature_range=(0,1))\n",
    "df1 = scaler.fit_transform(np.array(df1).reshape(-1,1))"
   ]
  },
  {
   "cell_type": "code",
   "execution_count": 16,
   "metadata": {},
   "outputs": [
    {
     "data": {
      "text/plain": [
       "(1257, 1)"
      ]
     },
     "execution_count": 16,
     "metadata": {},
     "output_type": "execute_result"
    }
   ],
   "source": [
    "df1.shape"
   ]
  },
  {
   "cell_type": "code",
   "execution_count": 17,
   "metadata": {},
   "outputs": [],
   "source": [
    "# splitting the data into train and test\n",
    "training_size = int(len(df1)*0.65)\n",
    "test_size = len(df1) - training_size\n",
    "train_data, test_data = df1[0:training_size,:], df1[training_size:len(df1),:1]"
   ]
  },
  {
   "cell_type": "code",
   "execution_count": 18,
   "metadata": {},
   "outputs": [],
   "source": [
    "import numpy\n",
    "# convert an array of values into a dataset matrix\n",
    "def create_dataset(dataset, time_step=1):\n",
    "    dataX, dataY = [], []\n",
    "    for i in range(len(dataset) - time_step - 1):\n",
    "        a = dataset[i:(i+time_step), 0]   # i=0, 0,1,2,3\n",
    "        dataX.append(a)\n",
    "        dataY.append(dataset[i + time_step, 0])\n",
    "    return numpy.array(dataX), numpy.array(dataY)"
   ]
  },
  {
   "cell_type": "code",
   "execution_count": 19,
   "metadata": {},
   "outputs": [],
   "source": [
    "# reshape into X=t,t+1,t+2,t+3 and Y=t+4\n",
    "time_step = 100\n",
    "X_train, y_train = create_dataset(train_data, time_step)\n",
    "X_test, y_test = create_dataset(test_data, time_step)"
   ]
  },
  {
   "cell_type": "code",
   "execution_count": 20,
   "metadata": {},
   "outputs": [
    {
     "name": "stdout",
     "output_type": "stream",
     "text": [
      "(716, 100)\n",
      "(716,)\n"
     ]
    },
    {
     "data": {
      "text/plain": [
       "(None, None)"
      ]
     },
     "execution_count": 20,
     "metadata": {},
     "output_type": "execute_result"
    }
   ],
   "source": [
    "print(X_train.shape), print(y_train.shape)"
   ]
  },
  {
   "cell_type": "code",
   "execution_count": 21,
   "metadata": {},
   "outputs": [
    {
     "name": "stdout",
     "output_type": "stream",
     "text": [
      "(339, 100)\n",
      "(339,)\n"
     ]
    },
    {
     "data": {
      "text/plain": [
       "(None, None)"
      ]
     },
     "execution_count": 21,
     "metadata": {},
     "output_type": "execute_result"
    }
   ],
   "source": [
    "print(X_test.shape), print(y_test.shape)"
   ]
  },
  {
   "cell_type": "code",
   "execution_count": 22,
   "metadata": {},
   "outputs": [],
   "source": [
    "# reshape input to be [samples, time steps, features] which is required for LSTM\n",
    "X_train = X_train.reshape(X_train.shape[0], X_train.shape[1], 1)\n",
    "X_test = X_test.reshape(X_test.shape[0], X_test.shape[1], 1)"
   ]
  },
  {
   "cell_type": "code",
   "execution_count": 24,
   "metadata": {},
   "outputs": [
    {
     "data": {
      "text/plain": [
       "(716, 100, 1)"
      ]
     },
     "execution_count": 24,
     "metadata": {},
     "output_type": "execute_result"
    }
   ],
   "source": [
    "X_train.shape"
   ]
  },
  {
   "cell_type": "code",
   "execution_count": 25,
   "metadata": {},
   "outputs": [
    {
     "data": {
      "text/plain": [
       "(339, 100, 1)"
      ]
     },
     "execution_count": 25,
     "metadata": {},
     "output_type": "execute_result"
    }
   ],
   "source": [
    "X_test.shape"
   ]
  },
  {
   "cell_type": "markdown",
   "metadata": {},
   "source": [
    "# Creating the Model"
   ]
  },
  {
   "cell_type": "code",
   "execution_count": 26,
   "metadata": {},
   "outputs": [],
   "source": [
    "from tensorflow.keras.models import Sequential\n",
    "from tensorflow.keras.layers import Dense\n",
    "from tensorflow.keras.layers import LSTM"
   ]
  },
  {
   "cell_type": "code",
   "execution_count": 27,
   "metadata": {},
   "outputs": [],
   "source": [
    "model = Sequential()\n",
    "model.add(LSTM(50, return_sequences=True, input_shape=(100,1)))\n",
    "model.add(LSTM(50, return_sequences=True))\n",
    "model.add(LSTM(50))\n",
    "model.add(Dense(1))\n",
    "model.compile(loss=\"mean_squared_error\", optimizer='adam')"
   ]
  },
  {
   "cell_type": "code",
   "execution_count": 28,
   "metadata": {},
   "outputs": [
    {
     "name": "stdout",
     "output_type": "stream",
     "text": [
      "Model: \"sequential\"\n",
      "_________________________________________________________________\n",
      "Layer (type)                 Output Shape              Param #   \n",
      "=================================================================\n",
      "lstm (LSTM)                  (None, 100, 50)           10400     \n",
      "_________________________________________________________________\n",
      "lstm_1 (LSTM)                (None, 100, 50)           20200     \n",
      "_________________________________________________________________\n",
      "lstm_2 (LSTM)                (None, 50)                20200     \n",
      "_________________________________________________________________\n",
      "dense (Dense)                (None, 1)                 51        \n",
      "=================================================================\n",
      "Total params: 50,851\n",
      "Trainable params: 50,851\n",
      "Non-trainable params: 0\n",
      "_________________________________________________________________\n"
     ]
    }
   ],
   "source": [
    "model.summary()"
   ]
  },
  {
   "cell_type": "code",
   "execution_count": 29,
   "metadata": {},
   "outputs": [
    {
     "name": "stdout",
     "output_type": "stream",
     "text": [
      "Epoch 1/100\n",
      "12/12 [==============================] - 8s 223ms/step - loss: 0.0108 - val_loss: 0.0346\n",
      "Epoch 2/100\n",
      "12/12 [==============================] - 2s 138ms/step - loss: 0.0025 - val_loss: 0.0259\n",
      "Epoch 3/100\n",
      "12/12 [==============================] - 2s 138ms/step - loss: 0.0013 - val_loss: 0.0222\n",
      "Epoch 4/100\n",
      "12/12 [==============================] - 2s 139ms/step - loss: 8.1105e-04 - val_loss: 0.0220\n",
      "Epoch 5/100\n",
      "12/12 [==============================] - 2s 140ms/step - loss: 5.4183e-04 - val_loss: 0.0254\n",
      "Epoch 6/100\n",
      "12/12 [==============================] - 2s 138ms/step - loss: 4.9269e-04 - val_loss: 0.0249\n",
      "Epoch 7/100\n",
      "12/12 [==============================] - 2s 140ms/step - loss: 4.6317e-04 - val_loss: 0.0232\n",
      "Epoch 8/100\n",
      "12/12 [==============================] - 2s 152ms/step - loss: 4.4661e-04 - val_loss: 0.0248\n",
      "Epoch 9/100\n",
      "12/12 [==============================] - 2s 140ms/step - loss: 4.5092e-04 - val_loss: 0.0238\n",
      "Epoch 10/100\n",
      "12/12 [==============================] - 2s 148ms/step - loss: 4.4090e-04 - val_loss: 0.0198\n",
      "Epoch 11/100\n",
      "12/12 [==============================] - 2s 137ms/step - loss: 4.0351e-04 - val_loss: 0.0206\n",
      "Epoch 12/100\n",
      "12/12 [==============================] - 2s 138ms/step - loss: 3.8657e-04 - val_loss: 0.0219\n",
      "Epoch 13/100\n",
      "12/12 [==============================] - 2s 139ms/step - loss: 3.6159e-04 - val_loss: 0.0190\n",
      "Epoch 14/100\n",
      "12/12 [==============================] - 2s 138ms/step - loss: 3.5239e-04 - val_loss: 0.0185\n",
      "Epoch 15/100\n",
      "12/12 [==============================] - 2s 138ms/step - loss: 3.2176e-04 - val_loss: 0.0189\n",
      "Epoch 16/100\n",
      "12/12 [==============================] - 2s 158ms/step - loss: 3.1200e-04 - val_loss: 0.0168\n",
      "Epoch 17/100\n",
      "12/12 [==============================] - 2s 136ms/step - loss: 3.1348e-04 - val_loss: 0.0185\n",
      "Epoch 18/100\n",
      "12/12 [==============================] - 2s 159ms/step - loss: 2.9594e-04 - val_loss: 0.0175\n",
      "Epoch 19/100\n",
      "12/12 [==============================] - 2s 162ms/step - loss: 2.9222e-04 - val_loss: 0.0184\n",
      "Epoch 20/100\n",
      "12/12 [==============================] - 2s 139ms/step - loss: 2.9506e-04 - val_loss: 0.0179\n",
      "Epoch 21/100\n",
      "12/12 [==============================] - 2s 149ms/step - loss: 2.8638e-04 - val_loss: 0.0160\n",
      "Epoch 22/100\n",
      "12/12 [==============================] - 2s 138ms/step - loss: 2.9238e-04 - val_loss: 0.0183\n",
      "Epoch 23/100\n",
      "12/12 [==============================] - 2s 142ms/step - loss: 2.9573e-04 - val_loss: 0.0156\n",
      "Epoch 24/100\n",
      "12/12 [==============================] - 2s 139ms/step - loss: 2.9274e-04 - val_loss: 0.0162\n",
      "Epoch 25/100\n",
      "12/12 [==============================] - 2s 143ms/step - loss: 2.6447e-04 - val_loss: 0.0168\n",
      "Epoch 26/100\n",
      "12/12 [==============================] - 2s 141ms/step - loss: 2.5933e-04 - val_loss: 0.0158\n",
      "Epoch 27/100\n",
      "12/12 [==============================] - 2s 140ms/step - loss: 2.5817e-04 - val_loss: 0.0162\n",
      "Epoch 28/100\n",
      "12/12 [==============================] - 2s 162ms/step - loss: 2.5703e-04 - val_loss: 0.0166\n",
      "Epoch 29/100\n",
      "12/12 [==============================] - 2s 141ms/step - loss: 2.5524e-04 - val_loss: 0.0151\n",
      "Epoch 30/100\n",
      "12/12 [==============================] - 2s 141ms/step - loss: 2.6553e-04 - val_loss: 0.0158\n",
      "Epoch 31/100\n",
      "12/12 [==============================] - 2s 140ms/step - loss: 2.4756e-04 - val_loss: 0.0159\n",
      "Epoch 32/100\n",
      "12/12 [==============================] - 2s 140ms/step - loss: 2.6106e-04 - val_loss: 0.0192\n",
      "Epoch 33/100\n",
      "12/12 [==============================] - 2s 140ms/step - loss: 2.9804e-04 - val_loss: 0.0146\n",
      "Epoch 34/100\n",
      "12/12 [==============================] - 2s 141ms/step - loss: 2.5501e-04 - val_loss: 0.0147\n",
      "Epoch 35/100\n",
      "12/12 [==============================] - 2s 140ms/step - loss: 2.5880e-04 - val_loss: 0.0139\n",
      "Epoch 36/100\n",
      "12/12 [==============================] - 2s 139ms/step - loss: 2.9869e-04 - val_loss: 0.0166\n",
      "Epoch 37/100\n",
      "12/12 [==============================] - 2s 139ms/step - loss: 2.3859e-04 - val_loss: 0.0144\n",
      "Epoch 38/100\n",
      "12/12 [==============================] - 2s 149ms/step - loss: 2.3343e-04 - val_loss: 0.0151\n",
      "Epoch 39/100\n",
      "12/12 [==============================] - 2s 149ms/step - loss: 2.2706e-04 - val_loss: 0.0158\n",
      "Epoch 40/100\n",
      "12/12 [==============================] - 2s 142ms/step - loss: 2.2346e-04 - val_loss: 0.0155\n",
      "Epoch 41/100\n",
      "12/12 [==============================] - 2s 139ms/step - loss: 2.4277e-04 - val_loss: 0.0130\n",
      "Epoch 42/100\n",
      "12/12 [==============================] - 2s 140ms/step - loss: 2.3022e-04 - val_loss: 0.0155\n",
      "Epoch 43/100\n",
      "12/12 [==============================] - 2s 152ms/step - loss: 2.2431e-04 - val_loss: 0.0149\n",
      "Epoch 44/100\n",
      "12/12 [==============================] - 2s 138ms/step - loss: 2.2342e-04 - val_loss: 0.0130\n",
      "Epoch 45/100\n",
      "12/12 [==============================] - 2s 140ms/step - loss: 2.4741e-04 - val_loss: 0.0153\n",
      "Epoch 46/100\n",
      "12/12 [==============================] - 2s 142ms/step - loss: 2.1030e-04 - val_loss: 0.0137\n",
      "Epoch 47/100\n",
      "12/12 [==============================] - 2s 140ms/step - loss: 2.0985e-04 - val_loss: 0.0154\n",
      "Epoch 48/100\n",
      "12/12 [==============================] - 2s 139ms/step - loss: 2.1381e-04 - val_loss: 0.0147\n",
      "Epoch 49/100\n",
      "12/12 [==============================] - 2s 139ms/step - loss: 2.1277e-04 - val_loss: 0.0134\n",
      "Epoch 50/100\n",
      "12/12 [==============================] - 2s 139ms/step - loss: 2.0823e-04 - val_loss: 0.0141\n",
      "Epoch 51/100\n",
      "12/12 [==============================] - 2s 140ms/step - loss: 2.0214e-04 - val_loss: 0.0157\n",
      "Epoch 52/100\n",
      "12/12 [==============================] - 2s 139ms/step - loss: 2.1794e-04 - val_loss: 0.0176\n",
      "Epoch 53/100\n",
      "12/12 [==============================] - 2s 141ms/step - loss: 2.1092e-04 - val_loss: 0.0164\n",
      "Epoch 54/100\n",
      "12/12 [==============================] - 2s 141ms/step - loss: 1.9924e-04 - val_loss: 0.0165\n",
      "Epoch 55/100\n",
      "12/12 [==============================] - 2s 141ms/step - loss: 2.1493e-04 - val_loss: 0.0145\n",
      "Epoch 56/100\n",
      "12/12 [==============================] - 2s 164ms/step - loss: 1.9693e-04 - val_loss: 0.0161\n",
      "Epoch 57/100\n",
      "12/12 [==============================] - 2s 141ms/step - loss: 2.0842e-04 - val_loss: 0.0156\n",
      "Epoch 58/100\n",
      "12/12 [==============================] - 2s 141ms/step - loss: 2.0922e-04 - val_loss: 0.0121\n",
      "Epoch 59/100\n",
      "12/12 [==============================] - 2s 142ms/step - loss: 2.5479e-04 - val_loss: 0.0125\n",
      "Epoch 60/100\n",
      "12/12 [==============================] - 2s 142ms/step - loss: 1.8652e-04 - val_loss: 0.0154\n",
      "Epoch 61/100\n",
      "12/12 [==============================] - 2s 141ms/step - loss: 1.9047e-04 - val_loss: 0.0119\n",
      "Epoch 62/100\n",
      "12/12 [==============================] - 2s 141ms/step - loss: 2.1626e-04 - val_loss: 0.0132\n",
      "Epoch 63/100\n",
      "12/12 [==============================] - 2s 141ms/step - loss: 1.8449e-04 - val_loss: 0.0139\n",
      "Epoch 64/100\n",
      "12/12 [==============================] - 2s 140ms/step - loss: 1.9424e-04 - val_loss: 0.0133\n",
      "Epoch 65/100\n",
      "12/12 [==============================] - 2s 141ms/step - loss: 1.7506e-04 - val_loss: 0.0131\n",
      "Epoch 66/100\n",
      "12/12 [==============================] - 2s 141ms/step - loss: 1.7992e-04 - val_loss: 0.0132\n",
      "Epoch 67/100\n",
      "12/12 [==============================] - 2s 141ms/step - loss: 1.7911e-04 - val_loss: 0.0169\n",
      "Epoch 68/100\n",
      "12/12 [==============================] - 2s 140ms/step - loss: 2.0070e-04 - val_loss: 0.0144\n",
      "Epoch 69/100\n",
      "12/12 [==============================] - 2s 141ms/step - loss: 1.6668e-04 - val_loss: 0.0151\n",
      "Epoch 70/100\n",
      "12/12 [==============================] - 2s 142ms/step - loss: 1.7898e-04 - val_loss: 0.0154\n",
      "Epoch 71/100\n",
      "12/12 [==============================] - 2s 142ms/step - loss: 2.0262e-04 - val_loss: 0.0114\n",
      "Epoch 72/100\n",
      "12/12 [==============================] - 2s 141ms/step - loss: 2.0253e-04 - val_loss: 0.0124\n",
      "Epoch 73/100\n",
      "12/12 [==============================] - 2s 141ms/step - loss: 2.1508e-04 - val_loss: 0.0133\n",
      "Epoch 74/100\n",
      "12/12 [==============================] - 2s 140ms/step - loss: 1.8350e-04 - val_loss: 0.0107\n",
      "Epoch 75/100\n",
      "12/12 [==============================] - 2s 142ms/step - loss: 1.5943e-04 - val_loss: 0.0140\n",
      "Epoch 76/100\n",
      "12/12 [==============================] - 2s 141ms/step - loss: 1.5899e-04 - val_loss: 0.0139\n",
      "Epoch 77/100\n",
      "12/12 [==============================] - 2s 141ms/step - loss: 1.6485e-04 - val_loss: 0.0134\n",
      "Epoch 78/100\n"
     ]
    },
    {
     "name": "stdout",
     "output_type": "stream",
     "text": [
      "12/12 [==============================] - 2s 138ms/step - loss: 1.5551e-04 - val_loss: 0.0143\n",
      "Epoch 79/100\n",
      "12/12 [==============================] - 2s 136ms/step - loss: 1.5060e-04 - val_loss: 0.0140\n",
      "Epoch 80/100\n",
      "12/12 [==============================] - 2s 135ms/step - loss: 1.5343e-04 - val_loss: 0.0140\n",
      "Epoch 81/100\n",
      "12/12 [==============================] - 2s 138ms/step - loss: 1.5663e-04 - val_loss: 0.0179\n",
      "Epoch 82/100\n",
      "12/12 [==============================] - 2s 136ms/step - loss: 1.6755e-04 - val_loss: 0.0192\n",
      "Epoch 83/100\n",
      "12/12 [==============================] - 2s 135ms/step - loss: 1.8267e-04 - val_loss: 0.0122\n",
      "Epoch 84/100\n",
      "12/12 [==============================] - 2s 134ms/step - loss: 1.8711e-04 - val_loss: 0.0108\n",
      "Epoch 85/100\n",
      "12/12 [==============================] - 2s 136ms/step - loss: 1.8952e-04 - val_loss: 0.0132\n",
      "Epoch 86/100\n",
      "12/12 [==============================] - 2s 135ms/step - loss: 1.5066e-04 - val_loss: 0.0135\n",
      "Epoch 87/100\n",
      "12/12 [==============================] - 2s 135ms/step - loss: 1.3881e-04 - val_loss: 0.0121\n",
      "Epoch 88/100\n",
      "12/12 [==============================] - 2s 136ms/step - loss: 1.4491e-04 - val_loss: 0.0136\n",
      "Epoch 89/100\n",
      "12/12 [==============================] - 2s 135ms/step - loss: 1.4019e-04 - val_loss: 0.0126\n",
      "Epoch 90/100\n",
      "12/12 [==============================] - 2s 136ms/step - loss: 1.3640e-04 - val_loss: 0.0153\n",
      "Epoch 91/100\n",
      "12/12 [==============================] - 2s 138ms/step - loss: 1.3617e-04 - val_loss: 0.0144\n",
      "Epoch 92/100\n",
      "12/12 [==============================] - 2s 136ms/step - loss: 1.3286e-04 - val_loss: 0.0140\n",
      "Epoch 93/100\n",
      "12/12 [==============================] - 2s 137ms/step - loss: 1.3739e-04 - val_loss: 0.0136\n",
      "Epoch 94/100\n",
      "12/12 [==============================] - 2s 146ms/step - loss: 1.3944e-04 - val_loss: 0.0153\n",
      "Epoch 95/100\n",
      "12/12 [==============================] - 2s 169ms/step - loss: 1.3420e-04 - val_loss: 0.0141\n",
      "Epoch 96/100\n",
      "12/12 [==============================] - 2s 179ms/step - loss: 1.2677e-04 - val_loss: 0.0149\n",
      "Epoch 97/100\n",
      "12/12 [==============================] - 2s 165ms/step - loss: 1.2718e-04 - val_loss: 0.0100\n",
      "Epoch 98/100\n",
      "12/12 [==============================] - 2s 139ms/step - loss: 1.3634e-04 - val_loss: 0.0097\n",
      "Epoch 99/100\n",
      "12/12 [==============================] - 2s 147ms/step - loss: 1.7404e-04 - val_loss: 0.0106\n",
      "Epoch 100/100\n",
      "12/12 [==============================] - 2s 146ms/step - loss: 1.5425e-04 - val_loss: 0.0153\n"
     ]
    },
    {
     "data": {
      "text/plain": [
       "<tensorflow.python.keras.callbacks.History at 0x3520c1c0>"
      ]
     },
     "execution_count": 29,
     "metadata": {},
     "output_type": "execute_result"
    }
   ],
   "source": [
    "model.fit(X_train, y_train, validation_data=(X_test, y_test), epochs=100, batch_size=64, verbose=1)"
   ]
  },
  {
   "cell_type": "code",
   "execution_count": 30,
   "metadata": {},
   "outputs": [],
   "source": [
    "import tensorflow as tf"
   ]
  },
  {
   "cell_type": "code",
   "execution_count": 31,
   "metadata": {},
   "outputs": [
    {
     "data": {
      "text/plain": [
       "'2.5.0'"
      ]
     },
     "execution_count": 31,
     "metadata": {},
     "output_type": "execute_result"
    }
   ],
   "source": [
    "tf.__version__"
   ]
  },
  {
   "cell_type": "code",
   "execution_count": 32,
   "metadata": {},
   "outputs": [],
   "source": [
    "# Lets do the prediction and check performance metrics\n",
    "train_predict = model.predict(X_train)\n",
    "test_predict = model.predict(X_test)"
   ]
  },
  {
   "cell_type": "code",
   "execution_count": 34,
   "metadata": {},
   "outputs": [],
   "source": [
    "# Transform back to original form\n",
    "train_predict = scaler.inverse_transform(train_predict)\n",
    "test_predict = scaler.inverse_transform(test_predict)"
   ]
  },
  {
   "cell_type": "code",
   "execution_count": 35,
   "metadata": {},
   "outputs": [
    {
     "data": {
      "text/plain": [
       "188.7433474291393"
      ]
     },
     "execution_count": 35,
     "metadata": {},
     "output_type": "execute_result"
    }
   ],
   "source": [
    "# Calculate the RMSE performance metrics\n",
    "import math\n",
    "from sklearn.metrics import mean_squared_error\n",
    "math.sqrt(mean_squared_error(y_train, train_predict))"
   ]
  },
  {
   "cell_type": "code",
   "execution_count": 36,
   "metadata": {},
   "outputs": [
    {
     "data": {
      "text/plain": [
       "245.95774544696872"
      ]
     },
     "execution_count": 36,
     "metadata": {},
     "output_type": "execute_result"
    }
   ],
   "source": [
    "# Test data RMSE\n",
    "math.sqrt(mean_squared_error(y_test, test_predict))"
   ]
  },
  {
   "cell_type": "code",
   "execution_count": 37,
   "metadata": {},
   "outputs": [
    {
     "data": {
      "image/png": "[encoded data removed]",
      "text/plain": [
       "<Figure size 432x288 with 1 Axes>"
      ]
     },
     "metadata": {
      "needs_background": "light"
     },
     "output_type": "display_data"
    }
   ],
   "source": [
    "# Plotting\n",
    "# Shift train predictions for plotting\n",
    "look_back = 100\n",
    "trainPredictPlot = numpy.empty_like(df1)\n",
    "trainPredictPlot[:,:] = np.nan\n",
    "trainPredictPlot[look_back:len(train_predict) + look_back, :] = train_predict\n",
    "\n",
    "# Shift test predictions for plotting\n",
    "testPredictPlot = numpy.empty_like(df1)\n",
    "testPredictPlot[:, :] = numpy.nan\n",
    "testPredictPlot[len(train_predict) + (look_back*2) + 1:len(df1) - 1, :] = test_predict\n",
    "\n",
    "# plot baseline and predictions\n",
    "plt.plot(scaler.inverse_transform(df1))\n",
    "plt.plot(trainPredictPlot)\n",
    "plt.plot(testPredictPlot)\n",
    "plt.show()"
   ]
  },
  {
   "cell_type": "code",
   "execution_count": 38,
   "metadata": {},
   "outputs": [
    {
     "data": {
      "text/plain": [
       "440"
      ]
     },
     "execution_count": 38,
     "metadata": {},
     "output_type": "execute_result"
    }
   ],
   "source": [
    "len(test_data)"
   ]
  },
  {
   "cell_type": "code",
   "execution_count": 39,
   "metadata": {},
   "outputs": [
    {
     "data": {
      "text/plain": [
       "(1, 100)"
      ]
     },
     "execution_count": 39,
     "metadata": {},
     "output_type": "execute_result"
    }
   ],
   "source": [
    "x_input = test_data[340:].reshape(1,-1)\n",
    "x_input.shape"
   ]
  },
  {
   "cell_type": "code",
   "execution_count": 40,
   "metadata": {},
   "outputs": [],
   "source": [
    "temp_input = list(x_input)\n",
    "temp_input = temp_input[0].tolist()"
   ]
  },
  {
   "cell_type": "code",
   "execution_count": 45,
   "metadata": {},
   "outputs": [
    {
     "name": "stdout",
     "output_type": "stream",
     "text": [
      "[0.12030937]\n",
      "101\n",
      "1 day input [0.07163195 0.06960887 0.06935911 0.0643139  0.06701134 0.05529747\n",
      " 0.05592187 0.06001798 0.06119187 0.05279984 0.05045207 0.04260952\n",
      " 0.0481043  0.05429842 0.05135122 0.04780459 0.04740497 0.05394875\n",
      " 0.04925321 0.05342425 0.05292472 0.05279984 0.04887857 0.04720516\n",
      " 0.04638094 0.04832909 0.04453269 0.05040212 0.05042709 0.0525251\n",
      " 0.05349918 0.0509516  0.05404865 0.06186623 0.05976822 0.06104201\n",
      " 0.06513812 0.06181627 0.06641191 0.07060792 0.06990859 0.06918427\n",
      " 0.06843499 0.07260602 0.07647735 0.07805085 0.07882512 0.08554373\n",
      " 0.09068885 0.0970578  0.09373595 0.09840651 0.09688296 0.09973026\n",
      " 0.10849693 0.10682352 0.10160348 0.09176283 0.10100405 0.09913083\n",
      " 0.1026275  0.10702333 0.10809731 0.10255258 0.09808182 0.09973026\n",
      " 0.10027973 0.09943054 0.10402618 0.10300215 0.10327689 0.10097907\n",
      " 0.10085419 0.09963035 0.10027973 0.10784754 0.10837205 0.11341725\n",
      " 0.11109446 0.10152855 0.10237774 0.10609921 0.1098956  0.10967081\n",
      " 0.1065238  0.10447575 0.10712323 0.11841251 0.11519057 0.11688896\n",
      " 0.11973625 0.12135971 0.12732904 0.12338279 0.12078525 0.10804736\n",
      " 0.10949598 0.10592437 0.10819721 0.12030937]\n",
      "1 day output [[0.11832503]]\n",
      "2 day input [0.06960887 0.06935911 0.0643139  0.06701134 0.05529747 0.05592187\n",
      " 0.06001798 0.06119187 0.05279984 0.05045207 0.04260952 0.0481043\n",
      " 0.05429842 0.05135122 0.04780459 0.04740497 0.05394875 0.04925321\n",
      " 0.05342425 0.05292472 0.05279984 0.04887857 0.04720516 0.04638094\n",
      " 0.04832909 0.04453269 0.05040212 0.05042709 0.0525251  0.05349918\n",
      " 0.0509516  0.05404865 0.06186623 0.05976822 0.06104201 0.06513812\n",
      " 0.06181627 0.06641191 0.07060792 0.06990859 0.06918427 0.06843499\n",
      " 0.07260602 0.07647735 0.07805085 0.07882512 0.08554373 0.09068885\n",
      " 0.0970578  0.09373595 0.09840651 0.09688296 0.09973026 0.10849693\n",
      " 0.10682352 0.10160348 0.09176283 0.10100405 0.09913083 0.1026275\n",
      " 0.10702333 0.10809731 0.10255258 0.09808182 0.09973026 0.10027973\n",
      " 0.09943054 0.10402618 0.10300215 0.10327689 0.10097907 0.10085419\n",
      " 0.09963035 0.10027973 0.10784754 0.10837205 0.11341725 0.11109446\n",
      " 0.10152855 0.10237774 0.10609921 0.1098956  0.10967081 0.1065238\n",
      " 0.10447575 0.10712323 0.11841251 0.11519057 0.11688896 0.11973625\n",
      " 0.12135971 0.12732904 0.12338279 0.12078525 0.10804736 0.10949598\n",
      " 0.10592437 0.10819721 0.12030937 0.11832503]\n",
      "2 day output [[0.11790457]]\n",
      "3 day input [0.06935911 0.0643139  0.06701134 0.05529747 0.05592187 0.06001798\n",
      " 0.06119187 0.05279984 0.05045207 0.04260952 0.0481043  0.05429842\n",
      " 0.05135122 0.04780459 0.04740497 0.05394875 0.04925321 0.05342425\n",
      " 0.05292472 0.05279984 0.04887857 0.04720516 0.04638094 0.04832909\n",
      " 0.04453269 0.05040212 0.05042709 0.0525251  0.05349918 0.0509516\n",
      " 0.05404865 0.06186623 0.05976822 0.06104201 0.06513812 0.06181627\n",
      " 0.06641191 0.07060792 0.06990859 0.06918427 0.06843499 0.07260602\n",
      " 0.07647735 0.07805085 0.07882512 0.08554373 0.09068885 0.0970578\n",
      " 0.09373595 0.09840651 0.09688296 0.09973026 0.10849693 0.10682352\n",
      " 0.10160348 0.09176283 0.10100405 0.09913083 0.1026275  0.10702333\n",
      " 0.10809731 0.10255258 0.09808182 0.09973026 0.10027973 0.09943054\n",
      " 0.10402618 0.10300215 0.10327689 0.10097907 0.10085419 0.09963035\n",
      " 0.10027973 0.10784754 0.10837205 0.11341725 0.11109446 0.10152855\n",
      " 0.10237774 0.10609921 0.1098956  0.10967081 0.1065238  0.10447575\n",
      " 0.10712323 0.11841251 0.11519057 0.11688896 0.11973625 0.12135971\n",
      " 0.12732904 0.12338279 0.12078525 0.10804736 0.10949598 0.10592437\n",
      " 0.10819721 0.12030937 0.11832503 0.11790457]\n",
      "3 day output [[0.11870904]]\n",
      "4 day input [0.0643139  0.06701134 0.05529747 0.05592187 0.06001798 0.06119187\n",
      " 0.05279984 0.05045207 0.04260952 0.0481043  0.05429842 0.05135122\n",
      " 0.04780459 0.04740497 0.05394875 0.04925321 0.05342425 0.05292472\n",
      " 0.05279984 0.04887857 0.04720516 0.04638094 0.04832909 0.04453269\n",
      " 0.05040212 0.05042709 0.0525251  0.05349918 0.0509516  0.05404865\n",
      " 0.06186623 0.05976822 0.06104201 0.06513812 0.06181627 0.06641191\n",
      " 0.07060792 0.06990859 0.06918427 0.06843499 0.07260602 0.07647735\n",
      " 0.07805085 0.07882512 0.08554373 0.09068885 0.0970578  0.09373595\n",
      " 0.09840651 0.09688296 0.09973026 0.10849693 0.10682352 0.10160348\n",
      " 0.09176283 0.10100405 0.09913083 0.1026275  0.10702333 0.10809731\n",
      " 0.10255258 0.09808182 0.09973026 0.10027973 0.09943054 0.10402618\n",
      " 0.10300215 0.10327689 0.10097907 0.10085419 0.09963035 0.10027973\n",
      " 0.10784754 0.10837205 0.11341725 0.11109446 0.10152855 0.10237774\n",
      " 0.10609921 0.1098956  0.10967081 0.1065238  0.10447575 0.10712323\n",
      " 0.11841251 0.11519057 0.11688896 0.11973625 0.12135971 0.12732904\n",
      " 0.12338279 0.12078525 0.10804736 0.10949598 0.10592437 0.10819721\n",
      " 0.12030937 0.11832503 0.11790457 0.11870904]\n",
      "4 day output [[0.12029486]]\n",
      "5 day input [0.06701134 0.05529747 0.05592187 0.06001798 0.06119187 0.05279984\n",
      " 0.05045207 0.04260952 0.0481043  0.05429842 0.05135122 0.04780459\n",
      " 0.04740497 0.05394875 0.04925321 0.05342425 0.05292472 0.05279984\n",
      " 0.04887857 0.04720516 0.04638094 0.04832909 0.04453269 0.05040212\n",
      " 0.05042709 0.0525251  0.05349918 0.0509516  0.05404865 0.06186623\n",
      " 0.05976822 0.06104201 0.06513812 0.06181627 0.06641191 0.07060792\n",
      " 0.06990859 0.06918427 0.06843499 0.07260602 0.07647735 0.07805085\n",
      " 0.07882512 0.08554373 0.09068885 0.0970578  0.09373595 0.09840651\n",
      " 0.09688296 0.09973026 0.10849693 0.10682352 0.10160348 0.09176283\n",
      " 0.10100405 0.09913083 0.1026275  0.10702333 0.10809731 0.10255258\n",
      " 0.09808182 0.09973026 0.10027973 0.09943054 0.10402618 0.10300215\n",
      " 0.10327689 0.10097907 0.10085419 0.09963035 0.10027973 0.10784754\n",
      " 0.10837205 0.11341725 0.11109446 0.10152855 0.10237774 0.10609921\n",
      " 0.1098956  0.10967081 0.1065238  0.10447575 0.10712323 0.11841251\n",
      " 0.11519057 0.11688896 0.11973625 0.12135971 0.12732904 0.12338279\n",
      " 0.12078525 0.10804736 0.10949598 0.10592437 0.10819721 0.12030937\n",
      " 0.11832503 0.11790457 0.11870904 0.12029486]\n",
      "5 day output [[0.12229755]]\n",
      "6 day input [0.05529747 0.05592187 0.06001798 0.06119187 0.05279984 0.05045207\n",
      " 0.04260952 0.0481043  0.05429842 0.05135122 0.04780459 0.04740497\n",
      " 0.05394875 0.04925321 0.05342425 0.05292472 0.05279984 0.04887857\n",
      " 0.04720516 0.04638094 0.04832909 0.04453269 0.05040212 0.05042709\n",
      " 0.0525251  0.05349918 0.0509516  0.05404865 0.06186623 0.05976822\n",
      " 0.06104201 0.06513812 0.06181627 0.06641191 0.07060792 0.06990859\n",
      " 0.06918427 0.06843499 0.07260602 0.07647735 0.07805085 0.07882512\n",
      " 0.08554373 0.09068885 0.0970578  0.09373595 0.09840651 0.09688296\n",
      " 0.09973026 0.10849693 0.10682352 0.10160348 0.09176283 0.10100405\n",
      " 0.09913083 0.1026275  0.10702333 0.10809731 0.10255258 0.09808182\n",
      " 0.09973026 0.10027973 0.09943054 0.10402618 0.10300215 0.10327689\n",
      " 0.10097907 0.10085419 0.09963035 0.10027973 0.10784754 0.10837205\n",
      " 0.11341725 0.11109446 0.10152855 0.10237774 0.10609921 0.1098956\n",
      " 0.10967081 0.1065238  0.10447575 0.10712323 0.11841251 0.11519057\n",
      " 0.11688896 0.11973625 0.12135971 0.12732904 0.12338279 0.12078525\n",
      " 0.10804736 0.10949598 0.10592437 0.10819721 0.12030937 0.11832503\n",
      " 0.11790457 0.11870904 0.12029486 0.12229755]\n",
      "6 day output [[0.12447578]]\n",
      "7 day input [0.05592187 0.06001798 0.06119187 0.05279984 0.05045207 0.04260952\n",
      " 0.0481043  0.05429842 0.05135122 0.04780459 0.04740497 0.05394875\n",
      " 0.04925321 0.05342425 0.05292472 0.05279984 0.04887857 0.04720516\n",
      " 0.04638094 0.04832909 0.04453269 0.05040212 0.05042709 0.0525251\n",
      " 0.05349918 0.0509516  0.05404865 0.06186623 0.05976822 0.06104201\n",
      " 0.06513812 0.06181627 0.06641191 0.07060792 0.06990859 0.06918427\n",
      " 0.06843499 0.07260602 0.07647735 0.07805085 0.07882512 0.08554373\n",
      " 0.09068885 0.0970578  0.09373595 0.09840651 0.09688296 0.09973026\n",
      " 0.10849693 0.10682352 0.10160348 0.09176283 0.10100405 0.09913083\n",
      " 0.1026275  0.10702333 0.10809731 0.10255258 0.09808182 0.09973026\n",
      " 0.10027973 0.09943054 0.10402618 0.10300215 0.10327689 0.10097907\n",
      " 0.10085419 0.09963035 0.10027973 0.10784754 0.10837205 0.11341725\n",
      " 0.11109446 0.10152855 0.10237774 0.10609921 0.1098956  0.10967081\n",
      " 0.1065238  0.10447575 0.10712323 0.11841251 0.11519057 0.11688896\n",
      " 0.11973625 0.12135971 0.12732904 0.12338279 0.12078525 0.10804736\n",
      " 0.10949598 0.10592437 0.10819721 0.12030937 0.11832503 0.11790457\n",
      " 0.11870904 0.12029486 0.12229755 0.12447578]\n",
      "7 day output [[0.1266931]]\n",
      "8 day input [0.06001798 0.06119187 0.05279984 0.05045207 0.04260952 0.0481043\n",
      " 0.05429842 0.05135122 0.04780459 0.04740497 0.05394875 0.04925321\n",
      " 0.05342425 0.05292472 0.05279984 0.04887857 0.04720516 0.04638094\n",
      " 0.04832909 0.04453269 0.05040212 0.05042709 0.0525251  0.05349918\n",
      " 0.0509516  0.05404865 0.06186623 0.05976822 0.06104201 0.06513812\n",
      " 0.06181627 0.06641191 0.07060792 0.06990859 0.06918427 0.06843499\n",
      " 0.07260602 0.07647735 0.07805085 0.07882512 0.08554373 0.09068885\n",
      " 0.0970578  0.09373595 0.09840651 0.09688296 0.09973026 0.10849693\n",
      " 0.10682352 0.10160348 0.09176283 0.10100405 0.09913083 0.1026275\n",
      " 0.10702333 0.10809731 0.10255258 0.09808182 0.09973026 0.10027973\n",
      " 0.09943054 0.10402618 0.10300215 0.10327689 0.10097907 0.10085419\n",
      " 0.09963035 0.10027973 0.10784754 0.10837205 0.11341725 0.11109446\n",
      " 0.10152855 0.10237774 0.10609921 0.1098956  0.10967081 0.1065238\n",
      " 0.10447575 0.10712323 0.11841251 0.11519057 0.11688896 0.11973625\n",
      " 0.12135971 0.12732904 0.12338279 0.12078525 0.10804736 0.10949598\n",
      " 0.10592437 0.10819721 0.12030937 0.11832503 0.11790457 0.11870904\n",
      " 0.12029486 0.12229755 0.12447578 0.1266931 ]\n",
      "8 day output [[0.128883]]\n",
      "9 day input [0.06119187 0.05279984 0.05045207 0.04260952 0.0481043  0.05429842\n",
      " 0.05135122 0.04780459 0.04740497 0.05394875 0.04925321 0.05342425\n",
      " 0.05292472 0.05279984 0.04887857 0.04720516 0.04638094 0.04832909\n",
      " 0.04453269 0.05040212 0.05042709 0.0525251  0.05349918 0.0509516\n",
      " 0.05404865 0.06186623 0.05976822 0.06104201 0.06513812 0.06181627\n",
      " 0.06641191 0.07060792 0.06990859 0.06918427 0.06843499 0.07260602\n",
      " 0.07647735 0.07805085 0.07882512 0.08554373 0.09068885 0.0970578\n",
      " 0.09373595 0.09840651 0.09688296 0.09973026 0.10849693 0.10682352\n",
      " 0.10160348 0.09176283 0.10100405 0.09913083 0.1026275  0.10702333\n",
      " 0.10809731 0.10255258 0.09808182 0.09973026 0.10027973 0.09943054\n",
      " 0.10402618 0.10300215 0.10327689 0.10097907 0.10085419 0.09963035\n",
      " 0.10027973 0.10784754 0.10837205 0.11341725 0.11109446 0.10152855\n",
      " 0.10237774 0.10609921 0.1098956  0.10967081 0.1065238  0.10447575\n",
      " 0.10712323 0.11841251 0.11519057 0.11688896 0.11973625 0.12135971\n",
      " 0.12732904 0.12338279 0.12078525 0.10804736 0.10949598 0.10592437\n",
      " 0.10819721 0.12030937 0.11832503 0.11790457 0.11870904 0.12029486\n",
      " 0.12229755 0.12447578 0.1266931  0.128883  ]\n",
      "9 day output [[0.13101844]]\n",
      "10 day input [0.05279984 0.05045207 0.04260952 0.0481043  0.05429842 0.05135122\n",
      " 0.04780459 0.04740497 0.05394875 0.04925321 0.05342425 0.05292472\n",
      " 0.05279984 0.04887857 0.04720516 0.04638094 0.04832909 0.04453269\n",
      " 0.05040212 0.05042709 0.0525251  0.05349918 0.0509516  0.05404865\n",
      " 0.06186623 0.05976822 0.06104201 0.06513812 0.06181627 0.06641191\n",
      " 0.07060792 0.06990859 0.06918427 0.06843499 0.07260602 0.07647735\n",
      " 0.07805085 0.07882512 0.08554373 0.09068885 0.0970578  0.09373595\n",
      " 0.09840651 0.09688296 0.09973026 0.10849693 0.10682352 0.10160348\n",
      " 0.09176283 0.10100405 0.09913083 0.1026275  0.10702333 0.10809731\n",
      " 0.10255258 0.09808182 0.09973026 0.10027973 0.09943054 0.10402618\n",
      " 0.10300215 0.10327689 0.10097907 0.10085419 0.09963035 0.10027973\n",
      " 0.10784754 0.10837205 0.11341725 0.11109446 0.10152855 0.10237774\n",
      " 0.10609921 0.1098956  0.10967081 0.1065238  0.10447575 0.10712323\n",
      " 0.11841251 0.11519057 0.11688896 0.11973625 0.12135971 0.12732904\n",
      " 0.12338279 0.12078525 0.10804736 0.10949598 0.10592437 0.10819721\n",
      " 0.12030937 0.11832503 0.11790457 0.11870904 0.12029486 0.12229755\n",
      " 0.12447578 0.1266931  0.128883   0.13101844]\n"
     ]
    },
    {
     "name": "stdout",
     "output_type": "stream",
     "text": [
      "10 day output [[0.13309138]]\n",
      "11 day input [0.05045207 0.04260952 0.0481043  0.05429842 0.05135122 0.04780459\n",
      " 0.04740497 0.05394875 0.04925321 0.05342425 0.05292472 0.05279984\n",
      " 0.04887857 0.04720516 0.04638094 0.04832909 0.04453269 0.05040212\n",
      " 0.05042709 0.0525251  0.05349918 0.0509516  0.05404865 0.06186623\n",
      " 0.05976822 0.06104201 0.06513812 0.06181627 0.06641191 0.07060792\n",
      " 0.06990859 0.06918427 0.06843499 0.07260602 0.07647735 0.07805085\n",
      " 0.07882512 0.08554373 0.09068885 0.0970578  0.09373595 0.09840651\n",
      " 0.09688296 0.09973026 0.10849693 0.10682352 0.10160348 0.09176283\n",
      " 0.10100405 0.09913083 0.1026275  0.10702333 0.10809731 0.10255258\n",
      " 0.09808182 0.09973026 0.10027973 0.09943054 0.10402618 0.10300215\n",
      " 0.10327689 0.10097907 0.10085419 0.09963035 0.10027973 0.10784754\n",
      " 0.10837205 0.11341725 0.11109446 0.10152855 0.10237774 0.10609921\n",
      " 0.1098956  0.10967081 0.1065238  0.10447575 0.10712323 0.11841251\n",
      " 0.11519057 0.11688896 0.11973625 0.12135971 0.12732904 0.12338279\n",
      " 0.12078525 0.10804736 0.10949598 0.10592437 0.10819721 0.12030937\n",
      " 0.11832503 0.11790457 0.11870904 0.12029486 0.12229755 0.12447578\n",
      " 0.1266931  0.128883   0.13101844 0.13309138]\n",
      "11 day output [[0.13510196]]\n",
      "12 day input [0.04260952 0.0481043  0.05429842 0.05135122 0.04780459 0.04740497\n",
      " 0.05394875 0.04925321 0.05342425 0.05292472 0.05279984 0.04887857\n",
      " 0.04720516 0.04638094 0.04832909 0.04453269 0.05040212 0.05042709\n",
      " 0.0525251  0.05349918 0.0509516  0.05404865 0.06186623 0.05976822\n",
      " 0.06104201 0.06513812 0.06181627 0.06641191 0.07060792 0.06990859\n",
      " 0.06918427 0.06843499 0.07260602 0.07647735 0.07805085 0.07882512\n",
      " 0.08554373 0.09068885 0.0970578  0.09373595 0.09840651 0.09688296\n",
      " 0.09973026 0.10849693 0.10682352 0.10160348 0.09176283 0.10100405\n",
      " 0.09913083 0.1026275  0.10702333 0.10809731 0.10255258 0.09808182\n",
      " 0.09973026 0.10027973 0.09943054 0.10402618 0.10300215 0.10327689\n",
      " 0.10097907 0.10085419 0.09963035 0.10027973 0.10784754 0.10837205\n",
      " 0.11341725 0.11109446 0.10152855 0.10237774 0.10609921 0.1098956\n",
      " 0.10967081 0.1065238  0.10447575 0.10712323 0.11841251 0.11519057\n",
      " 0.11688896 0.11973625 0.12135971 0.12732904 0.12338279 0.12078525\n",
      " 0.10804736 0.10949598 0.10592437 0.10819721 0.12030937 0.11832503\n",
      " 0.11790457 0.11870904 0.12029486 0.12229755 0.12447578 0.1266931\n",
      " 0.128883   0.13101844 0.13309138 0.13510196]\n",
      "12 day output [[0.13705401]]\n",
      "13 day input [0.0481043  0.05429842 0.05135122 0.04780459 0.04740497 0.05394875\n",
      " 0.04925321 0.05342425 0.05292472 0.05279984 0.04887857 0.04720516\n",
      " 0.04638094 0.04832909 0.04453269 0.05040212 0.05042709 0.0525251\n",
      " 0.05349918 0.0509516  0.05404865 0.06186623 0.05976822 0.06104201\n",
      " 0.06513812 0.06181627 0.06641191 0.07060792 0.06990859 0.06918427\n",
      " 0.06843499 0.07260602 0.07647735 0.07805085 0.07882512 0.08554373\n",
      " 0.09068885 0.0970578  0.09373595 0.09840651 0.09688296 0.09973026\n",
      " 0.10849693 0.10682352 0.10160348 0.09176283 0.10100405 0.09913083\n",
      " 0.1026275  0.10702333 0.10809731 0.10255258 0.09808182 0.09973026\n",
      " 0.10027973 0.09943054 0.10402618 0.10300215 0.10327689 0.10097907\n",
      " 0.10085419 0.09963035 0.10027973 0.10784754 0.10837205 0.11341725\n",
      " 0.11109446 0.10152855 0.10237774 0.10609921 0.1098956  0.10967081\n",
      " 0.1065238  0.10447575 0.10712323 0.11841251 0.11519057 0.11688896\n",
      " 0.11973625 0.12135971 0.12732904 0.12338279 0.12078525 0.10804736\n",
      " 0.10949598 0.10592437 0.10819721 0.12030937 0.11832503 0.11790457\n",
      " 0.11870904 0.12029486 0.12229755 0.12447578 0.1266931  0.128883\n",
      " 0.13101844 0.13309138 0.13510196 0.13705401]\n",
      "13 day output [[0.13895352]]\n",
      "14 day input [0.05429842 0.05135122 0.04780459 0.04740497 0.05394875 0.04925321\n",
      " 0.05342425 0.05292472 0.05279984 0.04887857 0.04720516 0.04638094\n",
      " 0.04832909 0.04453269 0.05040212 0.05042709 0.0525251  0.05349918\n",
      " 0.0509516  0.05404865 0.06186623 0.05976822 0.06104201 0.06513812\n",
      " 0.06181627 0.06641191 0.07060792 0.06990859 0.06918427 0.06843499\n",
      " 0.07260602 0.07647735 0.07805085 0.07882512 0.08554373 0.09068885\n",
      " 0.0970578  0.09373595 0.09840651 0.09688296 0.09973026 0.10849693\n",
      " 0.10682352 0.10160348 0.09176283 0.10100405 0.09913083 0.1026275\n",
      " 0.10702333 0.10809731 0.10255258 0.09808182 0.09973026 0.10027973\n",
      " 0.09943054 0.10402618 0.10300215 0.10327689 0.10097907 0.10085419\n",
      " 0.09963035 0.10027973 0.10784754 0.10837205 0.11341725 0.11109446\n",
      " 0.10152855 0.10237774 0.10609921 0.1098956  0.10967081 0.1065238\n",
      " 0.10447575 0.10712323 0.11841251 0.11519057 0.11688896 0.11973625\n",
      " 0.12135971 0.12732904 0.12338279 0.12078525 0.10804736 0.10949598\n",
      " 0.10592437 0.10819721 0.12030937 0.11832503 0.11790457 0.11870904\n",
      " 0.12029486 0.12229755 0.12447578 0.1266931  0.128883   0.13101844\n",
      " 0.13309138 0.13510196 0.13705401 0.13895352]\n",
      "14 day output [[0.14080827]]\n",
      "15 day input [0.05135122 0.04780459 0.04740497 0.05394875 0.04925321 0.05342425\n",
      " 0.05292472 0.05279984 0.04887857 0.04720516 0.04638094 0.04832909\n",
      " 0.04453269 0.05040212 0.05042709 0.0525251  0.05349918 0.0509516\n",
      " 0.05404865 0.06186623 0.05976822 0.06104201 0.06513812 0.06181627\n",
      " 0.06641191 0.07060792 0.06990859 0.06918427 0.06843499 0.07260602\n",
      " 0.07647735 0.07805085 0.07882512 0.08554373 0.09068885 0.0970578\n",
      " 0.09373595 0.09840651 0.09688296 0.09973026 0.10849693 0.10682352\n",
      " 0.10160348 0.09176283 0.10100405 0.09913083 0.1026275  0.10702333\n",
      " 0.10809731 0.10255258 0.09808182 0.09973026 0.10027973 0.09943054\n",
      " 0.10402618 0.10300215 0.10327689 0.10097907 0.10085419 0.09963035\n",
      " 0.10027973 0.10784754 0.10837205 0.11341725 0.11109446 0.10152855\n",
      " 0.10237774 0.10609921 0.1098956  0.10967081 0.1065238  0.10447575\n",
      " 0.10712323 0.11841251 0.11519057 0.11688896 0.11973625 0.12135971\n",
      " 0.12732904 0.12338279 0.12078525 0.10804736 0.10949598 0.10592437\n",
      " 0.10819721 0.12030937 0.11832503 0.11790457 0.11870904 0.12029486\n",
      " 0.12229755 0.12447578 0.1266931  0.128883   0.13101844 0.13309138\n",
      " 0.13510196 0.13705401 0.13895352 0.14080827]\n",
      "15 day output [[0.14262788]]\n",
      "16 day input [0.04780459 0.04740497 0.05394875 0.04925321 0.05342425 0.05292472\n",
      " 0.05279984 0.04887857 0.04720516 0.04638094 0.04832909 0.04453269\n",
      " 0.05040212 0.05042709 0.0525251  0.05349918 0.0509516  0.05404865\n",
      " 0.06186623 0.05976822 0.06104201 0.06513812 0.06181627 0.06641191\n",
      " 0.07060792 0.06990859 0.06918427 0.06843499 0.07260602 0.07647735\n",
      " 0.07805085 0.07882512 0.08554373 0.09068885 0.0970578  0.09373595\n",
      " 0.09840651 0.09688296 0.09973026 0.10849693 0.10682352 0.10160348\n",
      " 0.09176283 0.10100405 0.09913083 0.1026275  0.10702333 0.10809731\n",
      " 0.10255258 0.09808182 0.09973026 0.10027973 0.09943054 0.10402618\n",
      " 0.10300215 0.10327689 0.10097907 0.10085419 0.09963035 0.10027973\n",
      " 0.10784754 0.10837205 0.11341725 0.11109446 0.10152855 0.10237774\n",
      " 0.10609921 0.1098956  0.10967081 0.1065238  0.10447575 0.10712323\n",
      " 0.11841251 0.11519057 0.11688896 0.11973625 0.12135971 0.12732904\n",
      " 0.12338279 0.12078525 0.10804736 0.10949598 0.10592437 0.10819721\n",
      " 0.12030937 0.11832503 0.11790457 0.11870904 0.12029486 0.12229755\n",
      " 0.12447578 0.1266931  0.128883   0.13101844 0.13309138 0.13510196\n",
      " 0.13705401 0.13895352 0.14080827 0.14262788]\n",
      "16 day output [[0.14442344]]\n",
      "17 day input [0.04740497 0.05394875 0.04925321 0.05342425 0.05292472 0.05279984\n",
      " 0.04887857 0.04720516 0.04638094 0.04832909 0.04453269 0.05040212\n",
      " 0.05042709 0.0525251  0.05349918 0.0509516  0.05404865 0.06186623\n",
      " 0.05976822 0.06104201 0.06513812 0.06181627 0.06641191 0.07060792\n",
      " 0.06990859 0.06918427 0.06843499 0.07260602 0.07647735 0.07805085\n",
      " 0.07882512 0.08554373 0.09068885 0.0970578  0.09373595 0.09840651\n",
      " 0.09688296 0.09973026 0.10849693 0.10682352 0.10160348 0.09176283\n",
      " 0.10100405 0.09913083 0.1026275  0.10702333 0.10809731 0.10255258\n",
      " 0.09808182 0.09973026 0.10027973 0.09943054 0.10402618 0.10300215\n",
      " 0.10327689 0.10097907 0.10085419 0.09963035 0.10027973 0.10784754\n",
      " 0.10837205 0.11341725 0.11109446 0.10152855 0.10237774 0.10609921\n",
      " 0.1098956  0.10967081 0.1065238  0.10447575 0.10712323 0.11841251\n",
      " 0.11519057 0.11688896 0.11973625 0.12135971 0.12732904 0.12338279\n",
      " 0.12078525 0.10804736 0.10949598 0.10592437 0.10819721 0.12030937\n",
      " 0.11832503 0.11790457 0.11870904 0.12029486 0.12229755 0.12447578\n",
      " 0.1266931  0.128883   0.13101844 0.13309138 0.13510196 0.13705401\n",
      " 0.13895352 0.14080827 0.14262788 0.14442344]\n",
      "17 day output [[0.14620662]]\n",
      "18 day input [0.05394875 0.04925321 0.05342425 0.05292472 0.05279984 0.04887857\n",
      " 0.04720516 0.04638094 0.04832909 0.04453269 0.05040212 0.05042709\n",
      " 0.0525251  0.05349918 0.0509516  0.05404865 0.06186623 0.05976822\n",
      " 0.06104201 0.06513812 0.06181627 0.06641191 0.07060792 0.06990859\n",
      " 0.06918427 0.06843499 0.07260602 0.07647735 0.07805085 0.07882512\n",
      " 0.08554373 0.09068885 0.0970578  0.09373595 0.09840651 0.09688296\n",
      " 0.09973026 0.10849693 0.10682352 0.10160348 0.09176283 0.10100405\n",
      " 0.09913083 0.1026275  0.10702333 0.10809731 0.10255258 0.09808182\n",
      " 0.09973026 0.10027973 0.09943054 0.10402618 0.10300215 0.10327689\n",
      " 0.10097907 0.10085419 0.09963035 0.10027973 0.10784754 0.10837205\n",
      " 0.11341725 0.11109446 0.10152855 0.10237774 0.10609921 0.1098956\n",
      " 0.10967081 0.1065238  0.10447575 0.10712323 0.11841251 0.11519057\n",
      " 0.11688896 0.11973625 0.12135971 0.12732904 0.12338279 0.12078525\n",
      " 0.10804736 0.10949598 0.10592437 0.10819721 0.12030937 0.11832503\n",
      " 0.11790457 0.11870904 0.12029486 0.12229755 0.12447578 0.1266931\n",
      " 0.128883   0.13101844 0.13309138 0.13510196 0.13705401 0.13895352\n",
      " 0.14080827 0.14262788 0.14442344 0.14620662]\n",
      "18 day output [[0.14798942]]\n",
      "19 day input [0.04925321 0.05342425 0.05292472 0.05279984 0.04887857 0.04720516\n",
      " 0.04638094 0.04832909 0.04453269 0.05040212 0.05042709 0.0525251\n",
      " 0.05349918 0.0509516  0.05404865 0.06186623 0.05976822 0.06104201\n",
      " 0.06513812 0.06181627 0.06641191 0.07060792 0.06990859 0.06918427\n",
      " 0.06843499 0.07260602 0.07647735 0.07805085 0.07882512 0.08554373\n",
      " 0.09068885 0.0970578  0.09373595 0.09840651 0.09688296 0.09973026\n",
      " 0.10849693 0.10682352 0.10160348 0.09176283 0.10100405 0.09913083\n",
      " 0.1026275  0.10702333 0.10809731 0.10255258 0.09808182 0.09973026\n",
      " 0.10027973 0.09943054 0.10402618 0.10300215 0.10327689 0.10097907\n",
      " 0.10085419 0.09963035 0.10027973 0.10784754 0.10837205 0.11341725\n",
      " 0.11109446 0.10152855 0.10237774 0.10609921 0.1098956  0.10967081\n",
      " 0.1065238  0.10447575 0.10712323 0.11841251 0.11519057 0.11688896\n",
      " 0.11973625 0.12135971 0.12732904 0.12338279 0.12078525 0.10804736\n",
      " 0.10949598 0.10592437 0.10819721 0.12030937 0.11832503 0.11790457\n",
      " 0.11870904 0.12029486 0.12229755 0.12447578 0.1266931  0.128883\n",
      " 0.13101844 0.13309138 0.13510196 0.13705401 0.13895352 0.14080827\n",
      " 0.14262788 0.14442344 0.14620662 0.14798942]\n",
      "19 day output [[0.14978303]]\n",
      "20 day input [0.05342425 0.05292472 0.05279984 0.04887857 0.04720516 0.04638094\n",
      " 0.04832909 0.04453269 0.05040212 0.05042709 0.0525251  0.05349918\n",
      " 0.0509516  0.05404865 0.06186623 0.05976822 0.06104201 0.06513812\n",
      " 0.06181627 0.06641191 0.07060792 0.06990859 0.06918427 0.06843499\n",
      " 0.07260602 0.07647735 0.07805085 0.07882512 0.08554373 0.09068885\n",
      " 0.0970578  0.09373595 0.09840651 0.09688296 0.09973026 0.10849693\n",
      " 0.10682352 0.10160348 0.09176283 0.10100405 0.09913083 0.1026275\n",
      " 0.10702333 0.10809731 0.10255258 0.09808182 0.09973026 0.10027973\n",
      " 0.09943054 0.10402618 0.10300215 0.10327689 0.10097907 0.10085419\n",
      " 0.09963035 0.10027973 0.10784754 0.10837205 0.11341725 0.11109446\n",
      " 0.10152855 0.10237774 0.10609921 0.1098956  0.10967081 0.1065238\n",
      " 0.10447575 0.10712323 0.11841251 0.11519057 0.11688896 0.11973625\n",
      " 0.12135971 0.12732904 0.12338279 0.12078525 0.10804736 0.10949598\n",
      " 0.10592437 0.10819721 0.12030937 0.11832503 0.11790457 0.11870904\n",
      " 0.12029486 0.12229755 0.12447578 0.1266931  0.128883   0.13101844\n",
      " 0.13309138 0.13510196 0.13705401 0.13895352 0.14080827 0.14262788\n",
      " 0.14442344 0.14620662 0.14798942 0.14978303]\n"
     ]
    },
    {
     "name": "stdout",
     "output_type": "stream",
     "text": [
      "20 day output [[0.15159754]]\n",
      "21 day input [0.05292472 0.05279984 0.04887857 0.04720516 0.04638094 0.04832909\n",
      " 0.04453269 0.05040212 0.05042709 0.0525251  0.05349918 0.0509516\n",
      " 0.05404865 0.06186623 0.05976822 0.06104201 0.06513812 0.06181627\n",
      " 0.06641191 0.07060792 0.06990859 0.06918427 0.06843499 0.07260602\n",
      " 0.07647735 0.07805085 0.07882512 0.08554373 0.09068885 0.0970578\n",
      " 0.09373595 0.09840651 0.09688296 0.09973026 0.10849693 0.10682352\n",
      " 0.10160348 0.09176283 0.10100405 0.09913083 0.1026275  0.10702333\n",
      " 0.10809731 0.10255258 0.09808182 0.09973026 0.10027973 0.09943054\n",
      " 0.10402618 0.10300215 0.10327689 0.10097907 0.10085419 0.09963035\n",
      " 0.10027973 0.10784754 0.10837205 0.11341725 0.11109446 0.10152855\n",
      " 0.10237774 0.10609921 0.1098956  0.10967081 0.1065238  0.10447575\n",
      " 0.10712323 0.11841251 0.11519057 0.11688896 0.11973625 0.12135971\n",
      " 0.12732904 0.12338279 0.12078525 0.10804736 0.10949598 0.10592437\n",
      " 0.10819721 0.12030937 0.11832503 0.11790457 0.11870904 0.12029486\n",
      " 0.12229755 0.12447578 0.1266931  0.128883   0.13101844 0.13309138\n",
      " 0.13510196 0.13705401 0.13895352 0.14080827 0.14262788 0.14442344\n",
      " 0.14620662 0.14798942 0.14978303 0.15159754]\n",
      "21 day output [[0.15344149]]\n",
      "22 day input [0.05279984 0.04887857 0.04720516 0.04638094 0.04832909 0.04453269\n",
      " 0.05040212 0.05042709 0.0525251  0.05349918 0.0509516  0.05404865\n",
      " 0.06186623 0.05976822 0.06104201 0.06513812 0.06181627 0.06641191\n",
      " 0.07060792 0.06990859 0.06918427 0.06843499 0.07260602 0.07647735\n",
      " 0.07805085 0.07882512 0.08554373 0.09068885 0.0970578  0.09373595\n",
      " 0.09840651 0.09688296 0.09973026 0.10849693 0.10682352 0.10160348\n",
      " 0.09176283 0.10100405 0.09913083 0.1026275  0.10702333 0.10809731\n",
      " 0.10255258 0.09808182 0.09973026 0.10027973 0.09943054 0.10402618\n",
      " 0.10300215 0.10327689 0.10097907 0.10085419 0.09963035 0.10027973\n",
      " 0.10784754 0.10837205 0.11341725 0.11109446 0.10152855 0.10237774\n",
      " 0.10609921 0.1098956  0.10967081 0.1065238  0.10447575 0.10712323\n",
      " 0.11841251 0.11519057 0.11688896 0.11973625 0.12135971 0.12732904\n",
      " 0.12338279 0.12078525 0.10804736 0.10949598 0.10592437 0.10819721\n",
      " 0.12030937 0.11832503 0.11790457 0.11870904 0.12029486 0.12229755\n",
      " 0.12447578 0.1266931  0.128883   0.13101844 0.13309138 0.13510196\n",
      " 0.13705401 0.13895352 0.14080827 0.14262788 0.14442344 0.14620662\n",
      " 0.14798942 0.14978303 0.15159754 0.15344149]\n",
      "22 day output [[0.15532172]]\n",
      "23 day input [0.04887857 0.04720516 0.04638094 0.04832909 0.04453269 0.05040212\n",
      " 0.05042709 0.0525251  0.05349918 0.0509516  0.05404865 0.06186623\n",
      " 0.05976822 0.06104201 0.06513812 0.06181627 0.06641191 0.07060792\n",
      " 0.06990859 0.06918427 0.06843499 0.07260602 0.07647735 0.07805085\n",
      " 0.07882512 0.08554373 0.09068885 0.0970578  0.09373595 0.09840651\n",
      " 0.09688296 0.09973026 0.10849693 0.10682352 0.10160348 0.09176283\n",
      " 0.10100405 0.09913083 0.1026275  0.10702333 0.10809731 0.10255258\n",
      " 0.09808182 0.09973026 0.10027973 0.09943054 0.10402618 0.10300215\n",
      " 0.10327689 0.10097907 0.10085419 0.09963035 0.10027973 0.10784754\n",
      " 0.10837205 0.11341725 0.11109446 0.10152855 0.10237774 0.10609921\n",
      " 0.1098956  0.10967081 0.1065238  0.10447575 0.10712323 0.11841251\n",
      " 0.11519057 0.11688896 0.11973625 0.12135971 0.12732904 0.12338279\n",
      " 0.12078525 0.10804736 0.10949598 0.10592437 0.10819721 0.12030937\n",
      " 0.11832503 0.11790457 0.11870904 0.12029486 0.12229755 0.12447578\n",
      " 0.1266931  0.128883   0.13101844 0.13309138 0.13510196 0.13705401\n",
      " 0.13895352 0.14080827 0.14262788 0.14442344 0.14620662 0.14798942\n",
      " 0.14978303 0.15159754 0.15344149 0.15532172]\n",
      "23 day output [[0.15724313]]\n",
      "24 day input [0.04720516 0.04638094 0.04832909 0.04453269 0.05040212 0.05042709\n",
      " 0.0525251  0.05349918 0.0509516  0.05404865 0.06186623 0.05976822\n",
      " 0.06104201 0.06513812 0.06181627 0.06641191 0.07060792 0.06990859\n",
      " 0.06918427 0.06843499 0.07260602 0.07647735 0.07805085 0.07882512\n",
      " 0.08554373 0.09068885 0.0970578  0.09373595 0.09840651 0.09688296\n",
      " 0.09973026 0.10849693 0.10682352 0.10160348 0.09176283 0.10100405\n",
      " 0.09913083 0.1026275  0.10702333 0.10809731 0.10255258 0.09808182\n",
      " 0.09973026 0.10027973 0.09943054 0.10402618 0.10300215 0.10327689\n",
      " 0.10097907 0.10085419 0.09963035 0.10027973 0.10784754 0.10837205\n",
      " 0.11341725 0.11109446 0.10152855 0.10237774 0.10609921 0.1098956\n",
      " 0.10967081 0.1065238  0.10447575 0.10712323 0.11841251 0.11519057\n",
      " 0.11688896 0.11973625 0.12135971 0.12732904 0.12338279 0.12078525\n",
      " 0.10804736 0.10949598 0.10592437 0.10819721 0.12030937 0.11832503\n",
      " 0.11790457 0.11870904 0.12029486 0.12229755 0.12447578 0.1266931\n",
      " 0.128883   0.13101844 0.13309138 0.13510196 0.13705401 0.13895352\n",
      " 0.14080827 0.14262788 0.14442344 0.14620662 0.14798942 0.14978303\n",
      " 0.15159754 0.15344149 0.15532172 0.15724313]\n",
      "24 day output [[0.15920924]]\n",
      "25 day input [0.04638094 0.04832909 0.04453269 0.05040212 0.05042709 0.0525251\n",
      " 0.05349918 0.0509516  0.05404865 0.06186623 0.05976822 0.06104201\n",
      " 0.06513812 0.06181627 0.06641191 0.07060792 0.06990859 0.06918427\n",
      " 0.06843499 0.07260602 0.07647735 0.07805085 0.07882512 0.08554373\n",
      " 0.09068885 0.0970578  0.09373595 0.09840651 0.09688296 0.09973026\n",
      " 0.10849693 0.10682352 0.10160348 0.09176283 0.10100405 0.09913083\n",
      " 0.1026275  0.10702333 0.10809731 0.10255258 0.09808182 0.09973026\n",
      " 0.10027973 0.09943054 0.10402618 0.10300215 0.10327689 0.10097907\n",
      " 0.10085419 0.09963035 0.10027973 0.10784754 0.10837205 0.11341725\n",
      " 0.11109446 0.10152855 0.10237774 0.10609921 0.1098956  0.10967081\n",
      " 0.1065238  0.10447575 0.10712323 0.11841251 0.11519057 0.11688896\n",
      " 0.11973625 0.12135971 0.12732904 0.12338279 0.12078525 0.10804736\n",
      " 0.10949598 0.10592437 0.10819721 0.12030937 0.11832503 0.11790457\n",
      " 0.11870904 0.12029486 0.12229755 0.12447578 0.1266931  0.128883\n",
      " 0.13101844 0.13309138 0.13510196 0.13705401 0.13895352 0.14080827\n",
      " 0.14262788 0.14442344 0.14620662 0.14798942 0.14978303 0.15159754\n",
      " 0.15344149 0.15532172 0.15724313 0.15920924]\n",
      "25 day output [[0.16122186]]\n",
      "26 day input [0.04832909 0.04453269 0.05040212 0.05042709 0.0525251  0.05349918\n",
      " 0.0509516  0.05404865 0.06186623 0.05976822 0.06104201 0.06513812\n",
      " 0.06181627 0.06641191 0.07060792 0.06990859 0.06918427 0.06843499\n",
      " 0.07260602 0.07647735 0.07805085 0.07882512 0.08554373 0.09068885\n",
      " 0.0970578  0.09373595 0.09840651 0.09688296 0.09973026 0.10849693\n",
      " 0.10682352 0.10160348 0.09176283 0.10100405 0.09913083 0.1026275\n",
      " 0.10702333 0.10809731 0.10255258 0.09808182 0.09973026 0.10027973\n",
      " 0.09943054 0.10402618 0.10300215 0.10327689 0.10097907 0.10085419\n",
      " 0.09963035 0.10027973 0.10784754 0.10837205 0.11341725 0.11109446\n",
      " 0.10152855 0.10237774 0.10609921 0.1098956  0.10967081 0.1065238\n",
      " 0.10447575 0.10712323 0.11841251 0.11519057 0.11688896 0.11973625\n",
      " 0.12135971 0.12732904 0.12338279 0.12078525 0.10804736 0.10949598\n",
      " 0.10592437 0.10819721 0.12030937 0.11832503 0.11790457 0.11870904\n",
      " 0.12029486 0.12229755 0.12447578 0.1266931  0.128883   0.13101844\n",
      " 0.13309138 0.13510196 0.13705401 0.13895352 0.14080827 0.14262788\n",
      " 0.14442344 0.14620662 0.14798942 0.14978303 0.15159754 0.15344149\n",
      " 0.15532172 0.15724313 0.15920924 0.16122186]\n",
      "26 day output [[0.16328166]]\n",
      "27 day input [0.04453269 0.05040212 0.05042709 0.0525251  0.05349918 0.0509516\n",
      " 0.05404865 0.06186623 0.05976822 0.06104201 0.06513812 0.06181627\n",
      " 0.06641191 0.07060792 0.06990859 0.06918427 0.06843499 0.07260602\n",
      " 0.07647735 0.07805085 0.07882512 0.08554373 0.09068885 0.0970578\n",
      " 0.09373595 0.09840651 0.09688296 0.09973026 0.10849693 0.10682352\n",
      " 0.10160348 0.09176283 0.10100405 0.09913083 0.1026275  0.10702333\n",
      " 0.10809731 0.10255258 0.09808182 0.09973026 0.10027973 0.09943054\n",
      " 0.10402618 0.10300215 0.10327689 0.10097907 0.10085419 0.09963035\n",
      " 0.10027973 0.10784754 0.10837205 0.11341725 0.11109446 0.10152855\n",
      " 0.10237774 0.10609921 0.1098956  0.10967081 0.1065238  0.10447575\n",
      " 0.10712323 0.11841251 0.11519057 0.11688896 0.11973625 0.12135971\n",
      " 0.12732904 0.12338279 0.12078525 0.10804736 0.10949598 0.10592437\n",
      " 0.10819721 0.12030937 0.11832503 0.11790457 0.11870904 0.12029486\n",
      " 0.12229755 0.12447578 0.1266931  0.128883   0.13101844 0.13309138\n",
      " 0.13510196 0.13705401 0.13895352 0.14080827 0.14262788 0.14442344\n",
      " 0.14620662 0.14798942 0.14978303 0.15159754 0.15344149 0.15532172\n",
      " 0.15724313 0.15920924 0.16122186 0.16328166]\n",
      "27 day output [[0.16538844]]\n",
      "28 day input [0.05040212 0.05042709 0.0525251  0.05349918 0.0509516  0.05404865\n",
      " 0.06186623 0.05976822 0.06104201 0.06513812 0.06181627 0.06641191\n",
      " 0.07060792 0.06990859 0.06918427 0.06843499 0.07260602 0.07647735\n",
      " 0.07805085 0.07882512 0.08554373 0.09068885 0.0970578  0.09373595\n",
      " 0.09840651 0.09688296 0.09973026 0.10849693 0.10682352 0.10160348\n",
      " 0.09176283 0.10100405 0.09913083 0.1026275  0.10702333 0.10809731\n",
      " 0.10255258 0.09808182 0.09973026 0.10027973 0.09943054 0.10402618\n",
      " 0.10300215 0.10327689 0.10097907 0.10085419 0.09963035 0.10027973\n",
      " 0.10784754 0.10837205 0.11341725 0.11109446 0.10152855 0.10237774\n",
      " 0.10609921 0.1098956  0.10967081 0.1065238  0.10447575 0.10712323\n",
      " 0.11841251 0.11519057 0.11688896 0.11973625 0.12135971 0.12732904\n",
      " 0.12338279 0.12078525 0.10804736 0.10949598 0.10592437 0.10819721\n",
      " 0.12030937 0.11832503 0.11790457 0.11870904 0.12029486 0.12229755\n",
      " 0.12447578 0.1266931  0.128883   0.13101844 0.13309138 0.13510196\n",
      " 0.13705401 0.13895352 0.14080827 0.14262788 0.14442344 0.14620662\n",
      " 0.14798942 0.14978303 0.15159754 0.15344149 0.15532172 0.15724313\n",
      " 0.15920924 0.16122186 0.16328166 0.16538844]\n",
      "28 day output [[0.16754138]]\n",
      "29 day input [0.05042709 0.0525251  0.05349918 0.0509516  0.05404865 0.06186623\n",
      " 0.05976822 0.06104201 0.06513812 0.06181627 0.06641191 0.07060792\n",
      " 0.06990859 0.06918427 0.06843499 0.07260602 0.07647735 0.07805085\n",
      " 0.07882512 0.08554373 0.09068885 0.0970578  0.09373595 0.09840651\n",
      " 0.09688296 0.09973026 0.10849693 0.10682352 0.10160348 0.09176283\n",
      " 0.10100405 0.09913083 0.1026275  0.10702333 0.10809731 0.10255258\n",
      " 0.09808182 0.09973026 0.10027973 0.09943054 0.10402618 0.10300215\n",
      " 0.10327689 0.10097907 0.10085419 0.09963035 0.10027973 0.10784754\n",
      " 0.10837205 0.11341725 0.11109446 0.10152855 0.10237774 0.10609921\n",
      " 0.1098956  0.10967081 0.1065238  0.10447575 0.10712323 0.11841251\n",
      " 0.11519057 0.11688896 0.11973625 0.12135971 0.12732904 0.12338279\n",
      " 0.12078525 0.10804736 0.10949598 0.10592437 0.10819721 0.12030937\n",
      " 0.11832503 0.11790457 0.11870904 0.12029486 0.12229755 0.12447578\n",
      " 0.1266931  0.128883   0.13101844 0.13309138 0.13510196 0.13705401\n",
      " 0.13895352 0.14080827 0.14262788 0.14442344 0.14620662 0.14798942\n",
      " 0.14978303 0.15159754 0.15344149 0.15532172 0.15724313 0.15920924\n",
      " 0.16122186 0.16328166 0.16538844 0.16754138]\n",
      "29 day output [[0.16973917]]\n"
     ]
    },
    {
     "name": "stdout",
     "output_type": "stream",
     "text": [
      "[[0.12030936777591705], [0.11832503229379654], [0.11790457367897034], [0.11870904266834259], [0.12029486149549484], [0.12229754775762558], [0.12447577714920044], [0.12669309973716736], [0.1288830041885376], [0.13101844489574432], [0.13309137523174286], [0.13510195910930634], [0.13705401122570038], [0.13895352184772491], [0.14080826938152313], [0.14262787997722626], [0.1444234400987625], [0.14620661735534668], [0.147989422082901], [0.14978303015232086], [0.1515975445508957], [0.15344148874282837], [0.15532171726226807], [0.15724313259124756], [0.1592092365026474], [0.16122186183929443], [0.1632816642522812], [0.16538843512535095], [0.16754138469696045], [0.16973917186260223]]\n"
     ]
    }
   ],
   "source": [
    "# Demonstrate predictions for next 30days\n",
    "from numpy import array\n",
    "\n",
    "lst_output = []\n",
    "n_steps = 100\n",
    "i = 0\n",
    "while(i<30):\n",
    "    \n",
    "    if(len(temp_input)>100):\n",
    "        x_input = np.array(temp_input[1:])\n",
    "        print(\"{} day input {}\".format(i, x_input))\n",
    "        x_input = x_input.reshape(1,-1)\n",
    "        x_input = x_input.reshape((1,n_steps, 1))\n",
    "        \n",
    "        yhat = model.predict(x_input, verbose=0)\n",
    "        print(\"{} day output {}\".format(i, yhat))\n",
    "        temp_input.extend(yhat[0].tolist())\n",
    "        temp_input = temp_input[1:]\n",
    "        lst_output.extend(yhat.tolist())\n",
    "        i = i+1\n",
    "    else:\n",
    "        x_input = x_input.reshape((1,n_steps,1))\n",
    "        yhat = model.predict(x_input,verbose=0)\n",
    "        print(yhat[0])\n",
    "        temp_input.extend(yhat[0].tolist())\n",
    "        print(len(temp_input))\n",
    "        lst_output.extend(yhat.tolist())\n",
    "        i = i+1\n",
    "        \n",
    "print(lst_output)"
   ]
  },
  {
   "cell_type": "code",
   "execution_count": 46,
   "metadata": {},
   "outputs": [],
   "source": [
    "day_new = np.arange(1,101)\n",
    "day_pred = np.arange(101,131)"
   ]
  },
  {
   "cell_type": "code",
   "execution_count": 47,
   "metadata": {},
   "outputs": [],
   "source": [
    "import matplotlib.pyplot as plt"
   ]
  },
  {
   "cell_type": "code",
   "execution_count": 48,
   "metadata": {},
   "outputs": [
    {
     "data": {
      "text/plain": [
       "1257"
      ]
     },
     "execution_count": 48,
     "metadata": {},
     "output_type": "execute_result"
    }
   ],
   "source": [
    "len(df1)"
   ]
  },
  {
   "cell_type": "code",
   "execution_count": 49,
   "metadata": {},
   "outputs": [],
   "source": [
    "df3 = df1.tolist()\n",
    "df3.extend(lst_output)\n"
   ]
  },
  {
   "cell_type": "code",
   "execution_count": 50,
   "metadata": {},
   "outputs": [
    {
     "data": {
      "text/plain": [
       "[<matplotlib.lines.Line2D at 0x3cb8ac40>]"
      ]
     },
     "execution_count": 50,
     "metadata": {},
     "output_type": "execute_result"
    },
    {
     "data": {
      "image/png": "[encoded data removed]",
      "text/plain": [
       "<Figure size 432x288 with 1 Axes>"
      ]
     },
     "metadata": {
      "needs_background": "light"
     },
     "output_type": "display_data"
    }
   ],
   "source": [
    "plt.plot(day_new, scaler.inverse_transform(df1[1157:]))\n",
    "plt.plot(day_pred, scaler.inverse_transform(lst_output))"
   ]
  },
  {
   "cell_type": "code",
   "execution_count": 51,
   "metadata": {},
   "outputs": [
    {
     "data": {
      "text/plain": [
       "[<matplotlib.lines.Line2D at 0x43582100>]"
      ]
     },
     "execution_count": 51,
     "metadata": {},
     "output_type": "execute_result"
    },
    {
     "data": {
      "image/png": "[encoded data removed]",
      "text/plain": [
       "<Figure size 432x288 with 1 Axes>"
      ]
     },
     "metadata": {
      "needs_background": "light"
     },
     "output_type": "display_data"
    }
   ],
   "source": [
    "# combine output from 1000 + future 30days\n",
    "df3 = df1.tolist()\n",
    "df3.extend(lst_output)\n",
    "plt.plot(df3[1000:])"
   ]
  },
  {
   "cell_type": "code",
   "execution_count": null,
   "metadata": {},
   "outputs": [],
   "source": []
  }
 ],
 "metadata": {
  "kernelspec": {
   "display_name": "Python 3",
   "language": "python",
   "name": "python3"
  },
  "language_info": {
   "codemirror_mode": {
    "name": "ipython",
    "version": 3
   },
   "file_extension": ".py",
   "mimetype": "text/x-python",
   "name": "python",
   "nbconvert_exporter": "python",
   "pygments_lexer": "ipython3",
   "version": "3.8.3"
  }
 },
 "nbformat": 4,
 "nbformat_minor": 4
}
